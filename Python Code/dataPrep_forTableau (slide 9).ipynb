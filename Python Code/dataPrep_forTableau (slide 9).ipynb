{
  "nbformat": 4,
  "nbformat_minor": 0,
  "metadata": {
    "colab": {
      "provenance": []
    },
    "kernelspec": {
      "name": "python3",
      "display_name": "Python 3"
    },
    "language_info": {
      "name": "python"
    }
  },
  "cells": [
    {
      "cell_type": "code",
      "execution_count": null,
      "metadata": {
        "id": "vzivnc1o8beL"
      },
      "outputs": [],
      "source": [
        "import pandas as pd\n",
        "import numpy as np\n",
        "import matplotlib.pyplot as plt\n"
      ]
    },
    {
      "cell_type": "code",
      "source": [
        "df = pd.read_csv(\"rft_reviewCount_perDay (1).csv\")\n",
        "df.head"
      ],
      "metadata": {
        "colab": {
          "base_uri": "https://localhost:8080/"
        },
        "id": "xJNfIfp-8lvm",
        "outputId": "59be2e61-11fc-4ab5-e451-31193d0e91a9"
      },
      "execution_count": null,
      "outputs": [
        {
          "output_type": "execute_result",
          "data": {
            "text/plain": [
              "<bound method NDFrame.head of         REVIEWCOUNT             BUSINESS_ID              CATEGORY_NAME  \\\n",
              "0                 1  chUeS0h9C8KGfyJO2Jqgew                      Salad   \n",
              "1                 2  iRIHK8-EwpeffwvoO4nzIA                    Seafood   \n",
              "2                 1  NxaslE3Fu4BUJN1OuT1mTw     American (Traditional)   \n",
              "3                 1  ujQ1XOMwCRpABsKYUg7rGw           Eyebrow Services   \n",
              "4                 1  r48rmDbebDPE0uLmbG-qew                Steakhouses   \n",
              "...             ...                     ...                        ...   \n",
              "281981            1  KDzLMPTTLihnpcctZLmg0g                  Nightlife   \n",
              "281982            2  WCdRXckP-dyr8IbbWzMCoA                  Nightlife   \n",
              "281983            1  zlNtAPz4GvSUiljQ-D3cvQ                 Sandwiches   \n",
              "281984            3  DcBLYSvOuWcNReolRVr12A                    Seafood   \n",
              "281985            1  U6I0k4ziZmQ-0SOccDsA7A  Event Planning & Services   \n",
              "\n",
              "              DATE STATE  AVG_DAILY_FOOT_TRAFFIC  DOW  SEASON  \n",
              "0       2021-04-10    MO                9.900937    6  Spring  \n",
              "1       2021-05-07    MO                7.048542    5  Spring  \n",
              "2       2021-05-20    FL                6.623333    4  Spring  \n",
              "3       2019-12-22    IN                5.703542    0  Winter  \n",
              "4       2020-11-11    AZ                3.506771    3    Fall  \n",
              "...            ...   ...                     ...  ...     ...  \n",
              "281981  2018-01-29    FL                7.868750    1  Winter  \n",
              "281982  2018-06-08    AZ                5.896354    5  Spring  \n",
              "281983  2019-12-04    LA                5.512812    3    Fall  \n",
              "281984  2019-02-16    LA                1.379375    6  Winter  \n",
              "281985  2019-07-20    PA                7.148229    6     Sum  \n",
              "\n",
              "[281986 rows x 8 columns]>"
            ]
          },
          "metadata": {},
          "execution_count": 4
        }
      ]
    },
    {
      "cell_type": "code",
      "source": [
        "catt = df[\"CATEGORY_NAME\"].unique()"
      ],
      "metadata": {
        "id": "Vf4Cmrfl8zi6"
      },
      "execution_count": null,
      "outputs": []
    },
    {
      "cell_type": "code",
      "source": [
        "newdf = pd.DataFrame(columns = df.columns)\n",
        "newdf = newdf.append(df.iloc[0])\n",
        "newdf"
      ],
      "metadata": {
        "colab": {
          "base_uri": "https://localhost:8080/",
          "height": 115
        },
        "id": "DBBowlig__JR",
        "outputId": "51f35e06-864d-43c6-822b-1e46e166dc0f"
      },
      "execution_count": null,
      "outputs": [
        {
          "output_type": "stream",
          "name": "stderr",
          "text": [
            "<ipython-input-6-ca1baad4d1ad>:2: FutureWarning: The frame.append method is deprecated and will be removed from pandas in a future version. Use pandas.concat instead.\n",
            "  newdf = newdf.append(df.iloc[0])\n"
          ]
        },
        {
          "output_type": "execute_result",
          "data": {
            "text/plain": [
              "  REVIEWCOUNT             BUSINESS_ID CATEGORY_NAME        DATE STATE  \\\n",
              "0           1  chUeS0h9C8KGfyJO2Jqgew         Salad  2021-04-10    MO   \n",
              "\n",
              "   AVG_DAILY_FOOT_TRAFFIC DOW  SEASON  \n",
              "0                9.900937   6  Spring  "
            ],
            "text/html": [
              "\n",
              "  <div id=\"df-96103ec5-417c-43dd-89cf-c414eb5ed646\" class=\"colab-df-container\">\n",
              "    <div>\n",
              "<style scoped>\n",
              "    .dataframe tbody tr th:only-of-type {\n",
              "        vertical-align: middle;\n",
              "    }\n",
              "\n",
              "    .dataframe tbody tr th {\n",
              "        vertical-align: top;\n",
              "    }\n",
              "\n",
              "    .dataframe thead th {\n",
              "        text-align: right;\n",
              "    }\n",
              "</style>\n",
              "<table border=\"1\" class=\"dataframe\">\n",
              "  <thead>\n",
              "    <tr style=\"text-align: right;\">\n",
              "      <th></th>\n",
              "      <th>REVIEWCOUNT</th>\n",
              "      <th>BUSINESS_ID</th>\n",
              "      <th>CATEGORY_NAME</th>\n",
              "      <th>DATE</th>\n",
              "      <th>STATE</th>\n",
              "      <th>AVG_DAILY_FOOT_TRAFFIC</th>\n",
              "      <th>DOW</th>\n",
              "      <th>SEASON</th>\n",
              "    </tr>\n",
              "  </thead>\n",
              "  <tbody>\n",
              "    <tr>\n",
              "      <th>0</th>\n",
              "      <td>1</td>\n",
              "      <td>chUeS0h9C8KGfyJO2Jqgew</td>\n",
              "      <td>Salad</td>\n",
              "      <td>2021-04-10</td>\n",
              "      <td>MO</td>\n",
              "      <td>9.900937</td>\n",
              "      <td>6</td>\n",
              "      <td>Spring</td>\n",
              "    </tr>\n",
              "  </tbody>\n",
              "</table>\n",
              "</div>\n",
              "    <div class=\"colab-df-buttons\">\n",
              "\n",
              "  <div class=\"colab-df-container\">\n",
              "    <button class=\"colab-df-convert\" onclick=\"convertToInteractive('df-96103ec5-417c-43dd-89cf-c414eb5ed646')\"\n",
              "            title=\"Convert this dataframe to an interactive table.\"\n",
              "            style=\"display:none;\">\n",
              "\n",
              "  <svg xmlns=\"http://www.w3.org/2000/svg\" height=\"24px\" viewBox=\"0 -960 960 960\">\n",
              "    <path d=\"M120-120v-720h720v720H120Zm60-500h600v-160H180v160Zm220 220h160v-160H400v160Zm0 220h160v-160H400v160ZM180-400h160v-160H180v160Zm440 0h160v-160H620v160ZM180-180h160v-160H180v160Zm440 0h160v-160H620v160Z\"/>\n",
              "  </svg>\n",
              "    </button>\n",
              "\n",
              "  <style>\n",
              "    .colab-df-container {\n",
              "      display:flex;\n",
              "      gap: 12px;\n",
              "    }\n",
              "\n",
              "    .colab-df-convert {\n",
              "      background-color: #E8F0FE;\n",
              "      border: none;\n",
              "      border-radius: 50%;\n",
              "      cursor: pointer;\n",
              "      display: none;\n",
              "      fill: #1967D2;\n",
              "      height: 32px;\n",
              "      padding: 0 0 0 0;\n",
              "      width: 32px;\n",
              "    }\n",
              "\n",
              "    .colab-df-convert:hover {\n",
              "      background-color: #E2EBFA;\n",
              "      box-shadow: 0px 1px 2px rgba(60, 64, 67, 0.3), 0px 1px 3px 1px rgba(60, 64, 67, 0.15);\n",
              "      fill: #174EA6;\n",
              "    }\n",
              "\n",
              "    .colab-df-buttons div {\n",
              "      margin-bottom: 4px;\n",
              "    }\n",
              "\n",
              "    [theme=dark] .colab-df-convert {\n",
              "      background-color: #3B4455;\n",
              "      fill: #D2E3FC;\n",
              "    }\n",
              "\n",
              "    [theme=dark] .colab-df-convert:hover {\n",
              "      background-color: #434B5C;\n",
              "      box-shadow: 0px 1px 3px 1px rgba(0, 0, 0, 0.15);\n",
              "      filter: drop-shadow(0px 1px 2px rgba(0, 0, 0, 0.3));\n",
              "      fill: #FFFFFF;\n",
              "    }\n",
              "  </style>\n",
              "\n",
              "    <script>\n",
              "      const buttonEl =\n",
              "        document.querySelector('#df-96103ec5-417c-43dd-89cf-c414eb5ed646 button.colab-df-convert');\n",
              "      buttonEl.style.display =\n",
              "        google.colab.kernel.accessAllowed ? 'block' : 'none';\n",
              "\n",
              "      async function convertToInteractive(key) {\n",
              "        const element = document.querySelector('#df-96103ec5-417c-43dd-89cf-c414eb5ed646');\n",
              "        const dataTable =\n",
              "          await google.colab.kernel.invokeFunction('convertToInteractive',\n",
              "                                                    [key], {});\n",
              "        if (!dataTable) return;\n",
              "\n",
              "        const docLinkHtml = 'Like what you see? Visit the ' +\n",
              "          '<a target=\"_blank\" href=https://colab.research.google.com/notebooks/data_table.ipynb>data table notebook</a>'\n",
              "          + ' to learn more about interactive tables.';\n",
              "        element.innerHTML = '';\n",
              "        dataTable['output_type'] = 'display_data';\n",
              "        await google.colab.output.renderOutput(dataTable, element);\n",
              "        const docLink = document.createElement('div');\n",
              "        docLink.innerHTML = docLinkHtml;\n",
              "        element.appendChild(docLink);\n",
              "      }\n",
              "    </script>\n",
              "  </div>\n",
              "\n",
              "    </div>\n",
              "  </div>\n"
            ]
          },
          "metadata": {},
          "execution_count": 6
        }
      ]
    },
    {
      "cell_type": "code",
      "source": [
        "df2 = df.groupby(by=df.CATEGORY_NAME, dropna=False).sum()\n",
        "df2"
      ],
      "metadata": {
        "id": "96ILBYC9-tTU"
      },
      "execution_count": null,
      "outputs": []
    },
    {
      "cell_type": "code",
      "source": [
        "df2.sort_values(by='REVIEWCOUNT', ascending=False)[1:50]"
      ],
      "metadata": {
        "id": "4zKsEAwJ-1d2"
      },
      "execution_count": null,
      "outputs": []
    },
    {
      "cell_type": "code",
      "source": [
        "cat_list = ['Events', 'Automotive','Travel','Food','Health & Medical','Hotels & Travel','Event Planning & Services']\n",
        "df3 = pd.DataFrame(columns = df.columns)\n",
        "df3 = df3.append(df.iloc[0])\n",
        "for i in range(len(df)):\n",
        "  if df['CATEGORY_NAME'][i] in cat_list:\n",
        "    df3 = df3.append(df.iloc[i])"
      ],
      "metadata": {
        "id": "mDf-KtezHI5j"
      },
      "execution_count": null,
      "outputs": []
    },
    {
      "cell_type": "code",
      "source": [
        "df3 = df3.drop(0)"
      ],
      "metadata": {
        "id": "-0hSBb3lZHQa"
      },
      "execution_count": null,
      "outputs": []
    },
    {
      "cell_type": "code",
      "source": [
        "df3[\"CATEGORY_NAME\"].unique()"
      ],
      "metadata": {
        "colab": {
          "base_uri": "https://localhost:8080/"
        },
        "id": "lXCTZtKCZeA_",
        "outputId": "97a3a9c5-8167-49e0-d43d-682679997e61"
      },
      "execution_count": null,
      "outputs": [
        {
          "output_type": "execute_result",
          "data": {
            "text/plain": [
              "array(['Event Planning & Services', 'Food', 'Hotels & Travel',\n",
              "       'Automotive', 'Health & Medical'], dtype=object)"
            ]
          },
          "metadata": {},
          "execution_count": 15
        }
      ]
    },
    {
      "cell_type": "code",
      "source": [
        "output_file_path = r'C:\\Users\\y1310\\Desktop\\top5_category.csv'\n",
        "df3.to_csv(output_file_path, index=False)"
      ],
      "metadata": {
        "id": "KqHgElDqZmJL"
      },
      "execution_count": null,
      "outputs": []
    },
    {
      "cell_type": "code",
      "source": [],
      "metadata": {
        "id": "OD6mOeoAahu_"
      },
      "execution_count": null,
      "outputs": []
    },
    {
      "cell_type": "code",
      "source": [],
      "metadata": {
        "id": "sbNAe-4Qzoz-"
      },
      "execution_count": null,
      "outputs": []
    },
    {
      "cell_type": "code",
      "source": [
        "df = pd.read_csv(\"rft_reviewCount_perDay(noCategory).csv\")\n",
        "df.head"
      ],
      "metadata": {
        "colab": {
          "base_uri": "https://localhost:8080/"
        },
        "id": "tY7v-AlWzo2v",
        "outputId": "7b223bcf-e0a2-432d-e02b-0a6049c46584"
      },
      "execution_count": null,
      "outputs": [
        {
          "output_type": "execute_result",
          "data": {
            "text/plain": [
              "<bound method NDFrame.head of          REVIEWCOUNT             BUSINESS_ID        DATE STATE  \\\n",
              "0                  1  0vi741BLMGl2QPeTXWeG2w  2018-03-05    LA   \n",
              "1                  1  syX56DgsypCm35ZGASzuxA  2018-04-30    FL   \n",
              "2                  1  F13x4Y7Lmv_FgyWUxka5xg  2018-08-06    PA   \n",
              "3                  1  AIeiNwWbTo7mwq1CQRDkyw  2018-02-03    FL   \n",
              "4                  1  HxUXrtCDt4LjhqGQnsLS3w  2018-07-10    LA   \n",
              "...              ...                     ...         ...   ...   \n",
              "2385164            1  YTbGUbE8xXl7Hw2ncuBI_g  2018-02-18    LA   \n",
              "2385165            1  VJpuuNZ8QXR2zTHIhB0yhw  2018-06-29    PA   \n",
              "2385166            1  XjuqPaZGBL_9FdV200Vqag  2019-02-03    TN   \n",
              "2385167            1  rZFm1YslDSv-Uy2oZ41eIQ  2018-01-30    FL   \n",
              "2385168            1  l_8s-fRs9vr00JmrRsg79Q  2019-02-23    AZ   \n",
              "\n",
              "         AVG_DAILY_FOOT_TRAFFIC  DOW  SEASON  \n",
              "0                      8.631562    1  Winter  \n",
              "1                      9.218438    1  Spring  \n",
              "2                      7.666250    1  Summer  \n",
              "3                      6.031771    6  Winter  \n",
              "4                      5.180521    2  Summer  \n",
              "...                         ...  ...     ...  \n",
              "2385164                4.354583    0  Winter  \n",
              "2385165               26.006596    5  Summer  \n",
              "2385166                3.603542    0  Winter  \n",
              "2385167                5.862604    2  Winter  \n",
              "2385168                5.039062    6  Winter  \n",
              "\n",
              "[2385169 rows x 7 columns]>"
            ]
          },
          "metadata": {},
          "execution_count": 24
        }
      ]
    },
    {
      "cell_type": "code",
      "source": [
        "for i in range(len(df)):\n",
        "  if df[\"DOW\"][i] == 1.0:\n",
        "    df[\"DOW\"][i] = \"Monday\"\n",
        "  if df[\"DOW\"][i] == 2.0:\n",
        "    df[\"DOW\"][i] = \"Tuesday\"\n",
        "  if df[\"DOW\"][i] == 3.0:\n",
        "    df[\"DOW\"][i] = \"Wednesday\"\n",
        "  if df[\"DOW\"][i] == 4.0:\n",
        "    df[\"DOW\"][i] = \"Thursday\"\n",
        "  if df[\"DOW\"][i] == 5.0:\n",
        "    df[\"DOW\"][i] = \"Friday\"\n",
        "  if df[\"DOW\"][i] == 6.0:\n",
        "    df[\"DOW\"][i] = \"Saturday\"\n",
        "  if df[\"DOW\"][i] == 0.0:\n",
        "    df[\"DOW\"][i] = \"Sunday\"\n",
        "\n"
      ],
      "metadata": {
        "colab": {
          "base_uri": "https://localhost:8080/"
        },
        "id": "6vVZTRnrz04-",
        "outputId": "f8cb200e-3cd4-4977-b9a4-6dd008f64b8f"
      },
      "execution_count": null,
      "outputs": [
        {
          "output_type": "stream",
          "name": "stderr",
          "text": [
            "<ipython-input-25-c8756713fe19>:3: SettingWithCopyWarning: \n",
            "A value is trying to be set on a copy of a slice from a DataFrame\n",
            "\n",
            "See the caveats in the documentation: https://pandas.pydata.org/pandas-docs/stable/user_guide/indexing.html#returning-a-view-versus-a-copy\n",
            "  df[\"DOW\"][i] = \"Monday\"\n"
          ]
        }
      ]
    },
    {
      "cell_type": "code",
      "source": [
        "df[\"DOW\"].unique()"
      ],
      "metadata": {
        "colab": {
          "base_uri": "https://localhost:8080/"
        },
        "id": "gGf5J-3j0Jzj",
        "outputId": "1dde67a9-aa46-47d0-f1f8-c4e5af72f359"
      },
      "execution_count": null,
      "outputs": [
        {
          "output_type": "execute_result",
          "data": {
            "text/plain": [
              "array(['Monday', 'Saturday', 'Tuesday', 'Thursday', 'Friday', 'Sunday',\n",
              "       'Wednesday'], dtype=object)"
            ]
          },
          "metadata": {},
          "execution_count": 26
        }
      ]
    },
    {
      "cell_type": "code",
      "source": [
        "output_file_path = r'wekkday.csv'\n",
        "df.to_csv(output_file_path, index=False)"
      ],
      "metadata": {
        "id": "sjAqODdt0Keb"
      },
      "execution_count": null,
      "outputs": []
    },
    {
      "cell_type": "code",
      "source": [],
      "metadata": {
        "id": "dv7UoZRt3Qhk"
      },
      "execution_count": null,
      "outputs": []
    }
  ]
}